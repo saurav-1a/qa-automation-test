{
 "cells": [
  {
   "cell_type": "markdown",
   "id": "d1f8549d",
   "metadata": {},
   "source": [
    "![Amadeus](https://upload.wikimedia.org/wikipedia/commons/8/8d/Amadeus_%28CRS%29_Logo.svg \"Amadeus\")\n",
    "\n",
    "\n",
    "<h1>Automation QA Engineer | Written Test</h1>\n",
    "\n",
    "\n",
    "<dl style=\"display: flex; flex-flow: row wrap; margin: 0;padding: 0 0 26px; margin-top: 20px\">\n",
    "        <div style=\"flex: 1 1 0; margin: 0; padding: 10px 0;\">\n",
    "            <dt>Overall seniority level</dt>\n",
    "            <dd>Middle</dd>\n",
    "        </div>\n",
    "        <div style=\"flex: 1 1 0; margin: 0; padding: 10px 20px;\">\n",
    "            <dt>Test duration</dt>\n",
    "            <dd>Self Paced</dd>\n",
    "        </div>\n",
    "        <div style=\"flex: 1 1 0; margin: 0; padding: 10px 20px;\">\n",
    "            <dt>Evaluation</dt>\n",
    "            <dd>Automatic</dd>\n",
    "        </div>\n",
    "            </dl>\n",
    "                <div style=\"flex-basis: auto; min-width: 400px;\">\n",
    "            <dt>Tested skills:</dt>\n",
    "            <dd><div style=\"position: relative; display: block; margin: 0; padding: 0; width: 100%; overflow: hidden;\">\n",
    "    <nav style=\"display: block; list-style: none; margin: 0 -2px; padding: 0;\">\n",
    "        <div style=\"display: inline-block; color: #fff; margin: 2px; border: 1px solid #dadada; border-radius: 3px; color: #656565; font-size: 11px; padding: 6px 9px; line-height: 1; background: #fff; -webkit-transition: none; -o-transition: none; transition: none; font-weight: 600; letter-spacing: 0; text-decoration: none;\">QA</div>\n",
    "        <div style=\"display: inline-block; color: #fff; margin: 2px; border: 1px solid #dadada; border-radius: 3px; color: #656565; font-size: 11px; padding: 6px 9px; line-height: 1; background: #fff; -webkit-transition: none; -o-transition: none; transition: none; font-weight: 600; letter-spacing: 0; text-decoration: none;\">Automation</div>\n",
    "<div style=\"display: inline-block; color: #fff; margin: 2px; border: 1px solid #dadada; border-radius: 3px; color: #656565; font-size: 11px; padding: 6px 9px; line-height: 1; background: #fff; -webkit-transition: none; -o-transition: none; transition: none; font-weight: 600; letter-spacing: 0; text-decoration: none;\">Python</div>\n",
    "<div style=\"display: inline-block; color: #fff; margin: 2px; border: 1px solid #dadada; border-radius: 3px; color: #656565; font-size: 11px; padding: 6px 9px; line-height: 1; background: #fff; -webkit-transition: none; -o-transition: none; transition: none; font-weight: 600; letter-spacing: 0; text-decoration: none;\">API Testing</div>\n",
    "<div style=\"display: inline-block; color: #fff; margin: 2px; border: 1px solid #dadada; border-radius: 3px; color: #656565; font-size: 11px; padding: 6px 9px; line-height: 1; background: #fff; -webkit-transition: none; -o-transition: none; transition: none; font-weight: 600; letter-spacing: 0; text-decoration: none;\">ETL</div>        \n",
    "                </nav>\n",
    "</div>\n",
    "</dd>\n",
    "        </div>"
   ]
  },
  {
   "cell_type": "markdown",
   "id": "94ed6bc5",
   "metadata": {},
   "source": [
    "<h2>Questions</h2>"
   ]
  },
  {
   "cell_type": "markdown",
   "id": "7ff61ef9",
   "metadata": {},
   "source": [
    "<h3>1. Write a python program to find the repetition of alphabets present in a string without using any inbuilt count method, Either using dictionary or Array. </h3>"
   ]
  },
  {
   "cell_type": "code",
   "execution_count": 9,
   "id": "2bd3c9bb",
   "metadata": {},
   "outputs": [
    {
     "name": "stdout",
     "output_type": "stream",
     "text": [
      "Test 1: hautttktuu\n",
      "Input to answer method hautttktuu\n",
      "\n",
      "\n",
      "Test 2: gkauekncoen\n",
      "Input to answer method gkauekncoen\n"
     ]
    }
   ],
   "source": [
    "def answer(input):\n",
    "    print(f\"Input to answer method {input}\")\n",
    "    ## Your script -- START\n",
    "    \n",
    "    ## Your script -- END\n",
    "    \n",
    "    pass\n",
    "\n",
    "print(\"Test 1: hautttktuu\")\n",
    "answer(\"hautttktuu\")\n",
    "print(\"\\n\")\n",
    "print(\"Test 2: gkauekncoen\")\n",
    "answer(\"gkauekncoen\")"
   ]
  },
  {
   "cell_type": "markdown",
   "id": "c2303497",
   "metadata": {},
   "source": [
    "<h3>2.\tGiven a list of numbers, shift the list 2 places to the right.</h3>\n",
    "<p>Input: <code>[1,2,3,4,5,6,7,8,9,0]</code></p>\n",
    "<p>Expected Output: <code>[9,0,1,2,3,4,5,6,7,8]</code></p>"
   ]
  },
  {
   "cell_type": "code",
   "execution_count": 11,
   "id": "5869f0e2",
   "metadata": {},
   "outputs": [
    {
     "name": "stdout",
     "output_type": "stream",
     "text": [
      "Test 1: [1,2,3,4,5,6,7,8,9,0]\n",
      "Input to answer method [1, 2, 3, 4, 5, 6, 7, 8, 9, 0]\n",
      "\n",
      "\n",
      "[8,2,7,1,1,4,5,9,0,2]\n",
      "Input to answer method [8, 2, 7, 1, 1, 4, 5, 9, 0, 2]\n"
     ]
    }
   ],
   "source": [
    "def answer(input):\n",
    "    print(f\"Input to answer method {input}\")\n",
    "    ## Your script -- START\n",
    "    \n",
    "    ## Your script -- END\n",
    "    \n",
    "    pass\n",
    "\n",
    "print(\"Test 1: [1,2,3,4,5,6,7,8,9,0]\")\n",
    "answer([1,2,3,4,5,6,7,8,9,0])\n",
    "print(\"\\n\")\n",
    "\n",
    "print(\"Test 2: [8,2,7,1,1,4,5,9,0,2]\")\n",
    "answer([8,2,7,1,1,4,5,9,0,2])"
   ]
  },
  {
   "cell_type": "markdown",
   "id": "a3497192",
   "metadata": {},
   "source": [
    "<h3>3. Given a list of numbers, find the 2nd largest prime number from the same and print the output\n",
    "without using any inbuild methods.</h3>\n",
    "<p>Input: <code>[0, 1, 4, 6, 9, 7, 11]</code></p>\n",
    "<p>Expected Output: <code>7</code></p>"
   ]
  },
  {
   "cell_type": "code",
   "execution_count": 12,
   "id": "e852f770",
   "metadata": {},
   "outputs": [
    {
     "name": "stdout",
     "output_type": "stream",
     "text": [
      "Test 1: [0, 1, 4, 6, 9, 7, 11]\n",
      "Input to answer method [0, 1, 4, 6, 9, 7, 11]\n",
      "\n",
      "\n",
      "Test [2, 1, 4, 6, 9, 7, 13]\n",
      "Input to answer method [2, 1, 4, 6, 9, 7, 13]\n"
     ]
    }
   ],
   "source": [
    "def answer(input):\n",
    "    print(f\"Input to answer method {input}\")\n",
    "    ## Your script -- START\n",
    "    \n",
    "    ## Your script -- END\n",
    "    \n",
    "    pass\n",
    "\n",
    "print(\"Test 1: [0, 1, 4, 6, 9, 7, 11]\")\n",
    "answer([0, 1, 4, 6, 9, 7, 11])\n",
    "print(\"\\n\")\n",
    "\n",
    "print(\"Test [2, 1, 4, 6, 9, 7, 13]\")\n",
    "answer([2, 1, 4, 6, 9, 7, 13])"
   ]
  },
  {
   "cell_type": "markdown",
   "id": "37d4067c",
   "metadata": {},
   "source": [
    "<h3>4. Given a dictionary and a character array, print all valid words that are possible using characters from the array. Note: Repetitions of characters is not allowed.</h3>\n",
    "<p>Input: <br><code>Word_List = [\"go\",\"bat\",\"me\",\"eat\",\"goal\",\"boy\", \"run\"]\n",
    "Char_List = ['e','o','b', 'a','m','g', 'l']\n",
    "</code></p>\n",
    "<p>Expected Output: <code>go, me, goal.</code></p>\n"
   ]
  },
  {
   "cell_type": "code",
   "execution_count": 16,
   "id": "4ced8de4",
   "metadata": {},
   "outputs": [
    {
     "name": "stdout",
     "output_type": "stream",
     "text": [
      "Test 1: WordList:[\"go\",\"bat\",\"me\",\"eat\",\"goal\",\"boy\", \"run\"] and CharList:[\"e\",\"o\",\"b\", \"a\",\"m\",\"g\", \"l\"]\n",
      "Input to answer method WordList:['go', 'bat', 'me', 'eat', 'goal', 'boy', 'run'] and CharList:['e', 'o', 'b', 'a', 'm', 'g', 'l']\n",
      "\n",
      "\n"
     ]
    }
   ],
   "source": [
    "def answer(word_list, char_list):\n",
    "    print(f\"Input to answer method WordList:{word_list} and CharList:{char_list}\")\n",
    "    ## Your script -- START\n",
    "    \n",
    "    ## Your script -- END\n",
    "    \n",
    "    pass\n",
    "\n",
    "print('Test 1: WordList:[\"go\",\"bat\",\"me\",\"eat\",\"goal\",\"boy\", \"run\"] and CharList:[\"e\",\"o\",\"b\", \"a\",\"m\",\"g\", \"l\"]')\n",
    "answer([\"go\",\"bat\",\"me\",\"eat\",\"goal\",\"boy\", \"run\"], ['e','o','b', 'a','m','g', 'l'])\n",
    "print(\"\\n\")"
   ]
  },
  {
   "cell_type": "code",
   "execution_count": null,
   "id": "c2e46d89",
   "metadata": {},
   "outputs": [],
   "source": []
  }
 ],
 "metadata": {
  "kernelspec": {
   "display_name": "Python 3 (ipykernel)",
   "language": "python",
   "name": "python3"
  },
  "language_info": {
   "codemirror_mode": {
    "name": "ipython",
    "version": 3
   },
   "file_extension": ".py",
   "mimetype": "text/x-python",
   "name": "python",
   "nbconvert_exporter": "python",
   "pygments_lexer": "ipython3",
   "version": "3.10.9"
  }
 },
 "nbformat": 4,
 "nbformat_minor": 5
}
